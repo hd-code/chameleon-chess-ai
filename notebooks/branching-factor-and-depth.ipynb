{
 "cells": [
  {
   "cell_type": "code",
   "execution_count": 1,
   "metadata": {},
   "outputs": [],
   "source": [
    "import pandas as pd"
   ]
  },
  {
   "cell_type": "markdown",
   "metadata": {},
   "source": [
    "# Calculating Complexity for Chameleon Chess\n",
    "\n",
    "This script will calculate the game tree complexity of the game chameleon chess.\n",
    "\n",
    "The complexity of a turn-based board game can be calculated with: $b^d$. $b$ is the branching factor, which is the usual number of moves a player could perform on a turn. $d$ is the depth, which is the usual length of a game (the total number of moves performed by all players).\n",
    "\n",
    "For that purpose, a series of games were played by the computer player (maxN). There were games played with two, three and four players. The script to play the games is `src/branching-factor-and-depth.ts`. The results were stored to `data/branching-factor-and-depth.csv`.\n",
    "\n",
    "In order to simulate different levels of experience in playing and to prevent all the games to be played in exactly then same manner, a random component was used. That means that there was a certain chance, that a random move was chosen, instead of one by the maxN algorithm. Some games were played with 1%, 10% and 20% chance for a random move.\n",
    "\n",
    "Let's load the results from the games and have look on the data."
   ]
  },
  {
   "cell_type": "code",
   "execution_count": 2,
   "metadata": {},
   "outputs": [
    {
     "data": {
      "text/html": [
       "<div>\n",
       "<style scoped>\n",
       "    .dataframe tbody tr th:only-of-type {\n",
       "        vertical-align: middle;\n",
       "    }\n",
       "\n",
       "    .dataframe tbody tr th {\n",
       "        vertical-align: top;\n",
       "    }\n",
       "\n",
       "    .dataframe thead th {\n",
       "        text-align: right;\n",
       "    }\n",
       "</style>\n",
       "<table border=\"1\" class=\"dataframe\">\n",
       "  <thead>\n",
       "    <tr style=\"text-align: right;\">\n",
       "      <th></th>\n",
       "      <th>numOfPlayers</th>\n",
       "      <th>chanceOfRandom</th>\n",
       "      <th>branchingFactorAvg</th>\n",
       "      <th>branchingFactorMedian</th>\n",
       "      <th>depth</th>\n",
       "    </tr>\n",
       "  </thead>\n",
       "  <tbody>\n",
       "    <tr>\n",
       "      <th>0</th>\n",
       "      <td>2</td>\n",
       "      <td>0.10</td>\n",
       "      <td>13.736842</td>\n",
       "      <td>13.0</td>\n",
       "      <td>19</td>\n",
       "    </tr>\n",
       "    <tr>\n",
       "      <th>1</th>\n",
       "      <td>2</td>\n",
       "      <td>0.10</td>\n",
       "      <td>14.694444</td>\n",
       "      <td>13.5</td>\n",
       "      <td>36</td>\n",
       "    </tr>\n",
       "    <tr>\n",
       "      <th>2</th>\n",
       "      <td>2</td>\n",
       "      <td>0.10</td>\n",
       "      <td>17.366667</td>\n",
       "      <td>20.5</td>\n",
       "      <td>30</td>\n",
       "    </tr>\n",
       "    <tr>\n",
       "      <th>3</th>\n",
       "      <td>2</td>\n",
       "      <td>0.10</td>\n",
       "      <td>8.183333</td>\n",
       "      <td>2.0</td>\n",
       "      <td>120</td>\n",
       "    </tr>\n",
       "    <tr>\n",
       "      <th>4</th>\n",
       "      <td>2</td>\n",
       "      <td>0.10</td>\n",
       "      <td>23.550000</td>\n",
       "      <td>23.0</td>\n",
       "      <td>20</td>\n",
       "    </tr>\n",
       "    <tr>\n",
       "      <th>...</th>\n",
       "      <td>...</td>\n",
       "      <td>...</td>\n",
       "      <td>...</td>\n",
       "      <td>...</td>\n",
       "      <td>...</td>\n",
       "    </tr>\n",
       "    <tr>\n",
       "      <th>895</th>\n",
       "      <td>4</td>\n",
       "      <td>0.05</td>\n",
       "      <td>16.909091</td>\n",
       "      <td>13.0</td>\n",
       "      <td>44</td>\n",
       "    </tr>\n",
       "    <tr>\n",
       "      <th>896</th>\n",
       "      <td>4</td>\n",
       "      <td>0.05</td>\n",
       "      <td>15.862069</td>\n",
       "      <td>13.0</td>\n",
       "      <td>58</td>\n",
       "    </tr>\n",
       "    <tr>\n",
       "      <th>897</th>\n",
       "      <td>4</td>\n",
       "      <td>0.05</td>\n",
       "      <td>15.944444</td>\n",
       "      <td>13.0</td>\n",
       "      <td>54</td>\n",
       "    </tr>\n",
       "    <tr>\n",
       "      <th>898</th>\n",
       "      <td>4</td>\n",
       "      <td>0.05</td>\n",
       "      <td>18.454545</td>\n",
       "      <td>17.0</td>\n",
       "      <td>55</td>\n",
       "    </tr>\n",
       "    <tr>\n",
       "      <th>899</th>\n",
       "      <td>4</td>\n",
       "      <td>0.05</td>\n",
       "      <td>15.862069</td>\n",
       "      <td>13.0</td>\n",
       "      <td>58</td>\n",
       "    </tr>\n",
       "  </tbody>\n",
       "</table>\n",
       "<p>900 rows × 5 columns</p>\n",
       "</div>"
      ],
      "text/plain": [
       "     numOfPlayers  chanceOfRandom  branchingFactorAvg  branchingFactorMedian  \\\n",
       "0               2            0.10           13.736842                   13.0   \n",
       "1               2            0.10           14.694444                   13.5   \n",
       "2               2            0.10           17.366667                   20.5   \n",
       "3               2            0.10            8.183333                    2.0   \n",
       "4               2            0.10           23.550000                   23.0   \n",
       "..            ...             ...                 ...                    ...   \n",
       "895             4            0.05           16.909091                   13.0   \n",
       "896             4            0.05           15.862069                   13.0   \n",
       "897             4            0.05           15.944444                   13.0   \n",
       "898             4            0.05           18.454545                   17.0   \n",
       "899             4            0.05           15.862069                   13.0   \n",
       "\n",
       "     depth  \n",
       "0       19  \n",
       "1       36  \n",
       "2       30  \n",
       "3      120  \n",
       "4       20  \n",
       "..     ...  \n",
       "895     44  \n",
       "896     58  \n",
       "897     54  \n",
       "898     55  \n",
       "899     58  \n",
       "\n",
       "[900 rows x 5 columns]"
      ]
     },
     "execution_count": 2,
     "metadata": {},
     "output_type": "execute_result"
    }
   ],
   "source": [
    "raw_data = pd.read_csv('../data/b-and-d.csv')\n",
    "raw_data"
   ]
  },
  {
   "cell_type": "markdown",
   "metadata": {},
   "source": [
    "The attributes 'numOfPlayers' and 'chanceOfRandom' encode the settings of the particular game.\n",
    "\n",
    "'branchingFactorAvg', 'branchingFactorMedian' and 'depth' are our target attributes.\n",
    "\n",
    "Let's check, how our target values are distributed."
   ]
  },
  {
   "cell_type": "code",
   "execution_count": 3,
   "metadata": {},
   "outputs": [
    {
     "data": {
      "text/plain": [
       "<matplotlib.axes._subplots.AxesSubplot at 0x7f66a3573850>"
      ]
     },
     "execution_count": 3,
     "metadata": {},
     "output_type": "execute_result"
    },
    {
     "data": {
      "image/png": "[encoded data removed]",
      "text/plain": [
       "<Figure size 432x288 with 1 Axes>"
      ]
     },
     "metadata": {
      "needs_background": "light"
     },
     "output_type": "display_data"
    }
   ],
   "source": [
    "raw_data.loc[:,['branchingFactorAvg','branchingFactorMedian','depth']].plot.box(grid='True')"
   ]
  },
  {
   "cell_type": "markdown",
   "metadata": {},
   "source": [
    "There are some outliers in the 'depth' property. When the game is gettings near the end, circles may occur. That means that both remaining players are basically 'dancing around each other' and no one gets a chance to beat the other. In reality with human players this never occurs (personal experience). The random moves should also prevent these circles. But it seems there are some cases, where a circular game took place.\n",
    "\n",
    "Lets remove these ones from the data!"
   ]
  },
  {
   "cell_type": "code",
   "execution_count": 15,
   "metadata": {},
   "outputs": [
    {
     "data": {
      "text/plain": [
       "<matplotlib.axes._subplots.AxesSubplot at 0x7f66a4164750>"
      ]
     },
     "execution_count": 15,
     "metadata": {},
     "output_type": "execute_result"
    },
    {
     "data": {
      "image/png": "[encoded data removed]",
      "text/plain": [
       "<Figure size 432x288 with 1 Axes>"
      ]
     },
     "metadata": {
      "needs_background": "light"
     },
     "output_type": "display_data"
    }
   ],
   "source": [
    "data = raw_data[raw_data.depth < 85]\n",
    "data.loc[:,['branchingFactorAvg','branchingFactorMedian','depth']].plot.box()"
   ]
  },
  {
   "cell_type": "markdown",
   "metadata": {},
   "source": [
    "Now we have a more realistic data set.\n",
    "\n",
    "There seems to be another outlier in the branching factor, but this is not unusual. By playing skillfully a player might have several pawns in very good positions (e.g. all pawns have the role 'queen'), thus causing the branching factor to skyrocket for this turn.\n",
    "\n",
    "The data set is cleaned up. Let's get into the analysis."
   ]
  },
  {
   "cell_type": "code",
   "execution_count": 16,
   "metadata": {},
   "outputs": [],
   "source": [
    "data_p2 = data[data.numOfPlayers == 2]\n",
    "data_p3 = data[data.numOfPlayers == 3]\n",
    "data_p4 = data[data.numOfPlayers == 4]\n",
    "\n",
    "data_p2_1 = data[(data.numOfPlayers == 2) & (data.chanceOfRandom == 0.05)]\n",
    "data_p3_1 = data[(data.numOfPlayers == 3) & (data.chanceOfRandom == 0.05)]\n",
    "data_p4_1 = data[(data.numOfPlayers == 4) & (data.chanceOfRandom == 0.05)]\n",
    "\n",
    "data_p2_10 = data[(data.numOfPlayers == 2) & (data.chanceOfRandom == 0.1)]\n",
    "data_p3_10 = data[(data.numOfPlayers == 3) & (data.chanceOfRandom == 0.1)]\n",
    "data_p4_10 = data[(data.numOfPlayers == 4) & (data.chanceOfRandom == 0.1)]\n",
    "\n",
    "data_p2_20 = data[(data.numOfPlayers == 2) & (data.chanceOfRandom == 0.2)]\n",
    "data_p3_20 = data[(data.numOfPlayers == 3) & (data.chanceOfRandom == 0.2)]\n",
    "data_p4_20 = data[(data.numOfPlayers == 4) & (data.chanceOfRandom == 0.2)]"
   ]
  },
  {
   "cell_type": "markdown",
   "metadata": {},
   "source": [
    "## Analysis of Branching Factor and Depth"
   ]
  },
  {
   "cell_type": "code",
   "execution_count": 17,
   "metadata": {},
   "outputs": [
    {
     "data": {
      "text/html": [
       "<div>\n",
       "<style scoped>\n",
       "    .dataframe tbody tr th:only-of-type {\n",
       "        vertical-align: middle;\n",
       "    }\n",
       "\n",
       "    .dataframe tbody tr th {\n",
       "        vertical-align: top;\n",
       "    }\n",
       "\n",
       "    .dataframe thead th {\n",
       "        text-align: right;\n",
       "    }\n",
       "</style>\n",
       "<table border=\"1\" class=\"dataframe\">\n",
       "  <thead>\n",
       "    <tr style=\"text-align: right;\">\n",
       "      <th></th>\n",
       "      <th>| 5%:</th>\n",
       "      <th>bAv</th>\n",
       "      <th>bMe</th>\n",
       "      <th>d</th>\n",
       "      <th>| 10%:</th>\n",
       "      <th>bAv</th>\n",
       "      <th>bMe</th>\n",
       "      <th>d</th>\n",
       "      <th>| 20%:</th>\n",
       "      <th>bAv</th>\n",
       "      <th>bMe</th>\n",
       "      <th>d</th>\n",
       "      <th>| all:</th>\n",
       "      <th>bAv</th>\n",
       "      <th>bMe</th>\n",
       "      <th>d</th>\n",
       "    </tr>\n",
       "  </thead>\n",
       "  <tbody>\n",
       "    <tr>\n",
       "      <th>2 Players</th>\n",
       "      <td></td>\n",
       "      <td>17.0</td>\n",
       "      <td>15.0</td>\n",
       "      <td>33.0</td>\n",
       "      <td></td>\n",
       "      <td>18.0</td>\n",
       "      <td>17.0</td>\n",
       "      <td>31.0</td>\n",
       "      <td></td>\n",
       "      <td>17.0</td>\n",
       "      <td>15.0</td>\n",
       "      <td>31.0</td>\n",
       "      <td></td>\n",
       "      <td>17.0</td>\n",
       "      <td>16.0</td>\n",
       "      <td>32.0</td>\n",
       "    </tr>\n",
       "    <tr>\n",
       "      <th>3 Players</th>\n",
       "      <td></td>\n",
       "      <td>16.0</td>\n",
       "      <td>16.0</td>\n",
       "      <td>47.0</td>\n",
       "      <td></td>\n",
       "      <td>16.0</td>\n",
       "      <td>15.0</td>\n",
       "      <td>49.0</td>\n",
       "      <td></td>\n",
       "      <td>16.0</td>\n",
       "      <td>15.0</td>\n",
       "      <td>51.0</td>\n",
       "      <td></td>\n",
       "      <td>16.0</td>\n",
       "      <td>15.0</td>\n",
       "      <td>49.0</td>\n",
       "    </tr>\n",
       "    <tr>\n",
       "      <th>4 Players</th>\n",
       "      <td></td>\n",
       "      <td>17.0</td>\n",
       "      <td>14.0</td>\n",
       "      <td>54.0</td>\n",
       "      <td></td>\n",
       "      <td>16.0</td>\n",
       "      <td>14.0</td>\n",
       "      <td>57.0</td>\n",
       "      <td></td>\n",
       "      <td>16.0</td>\n",
       "      <td>14.0</td>\n",
       "      <td>57.0</td>\n",
       "      <td></td>\n",
       "      <td>16.0</td>\n",
       "      <td>14.0</td>\n",
       "      <td>56.0</td>\n",
       "    </tr>\n",
       "  </tbody>\n",
       "</table>\n",
       "</div>"
      ],
      "text/plain": [
       "          | 5%:   bAv   bMe     d | 10%:   bAv   bMe     d | 20%:   bAv   bMe  \\\n",
       "2 Players        17.0  15.0  33.0         18.0  17.0  31.0         17.0  15.0   \n",
       "3 Players        16.0  16.0  47.0         16.0  15.0  49.0         16.0  15.0   \n",
       "4 Players        17.0  14.0  54.0         16.0  14.0  57.0         16.0  14.0   \n",
       "\n",
       "              d | all:   bAv   bMe     d  \n",
       "2 Players  31.0         17.0  16.0  32.0  \n",
       "3 Players  51.0         16.0  15.0  49.0  \n",
       "4 Players  57.0         16.0  14.0  56.0  "
      ]
     },
     "execution_count": 17,
     "metadata": {},
     "output_type": "execute_result"
    }
   ],
   "source": [
    "table = [\n",
    "    [\n",
    "        '', data_p2_1.branchingFactorAvg.mean(),  data_p2_1.branchingFactorMedian.mean(),  data_p2_1.depth.mean(),\n",
    "        '', data_p2_10.branchingFactorAvg.mean(), data_p2_10.branchingFactorMedian.mean(), data_p2_10.depth.mean(),\n",
    "        '', data_p2_20.branchingFactorAvg.mean(), data_p2_20.branchingFactorMedian.mean(), data_p2_20.depth.mean(),\n",
    "        '', data_p2.branchingFactorAvg.mean(),    data_p2.branchingFactorMedian.mean(),    data_p2.depth.mean(),\n",
    "    ],[\n",
    "        '', data_p3_1.branchingFactorAvg.mean(),  data_p3_1.branchingFactorMedian.mean(),  data_p3_1.depth.mean(),\n",
    "        '', data_p3_10.branchingFactorAvg.mean(), data_p3_10.branchingFactorMedian.mean(), data_p3_10.depth.mean(),\n",
    "        '', data_p3_20.branchingFactorAvg.mean(), data_p3_20.branchingFactorMedian.mean(), data_p3_20.depth.mean(),\n",
    "        '', data_p3.branchingFactorAvg.mean(),    data_p3.branchingFactorMedian.mean(),    data_p3.depth.mean(),\n",
    "    ],[\n",
    "        '', data_p4_1.branchingFactorAvg.mean(),  data_p4_1.branchingFactorMedian.mean(),  data_p4_1.depth.mean(),\n",
    "        '', data_p4_10.branchingFactorAvg.mean(), data_p4_10.branchingFactorMedian.mean(), data_p4_10.depth.mean(),\n",
    "        '', data_p4_20.branchingFactorAvg.mean(), data_p4_20.branchingFactorMedian.mean(), data_p4_20.depth.mean(),\n",
    "        '', data_p4.branchingFactorAvg.mean(),    data_p4.branchingFactorMedian.mean(),    data_p4.depth.mean(),\n",
    "    ]\n",
    "]\n",
    "pd.DataFrame(table, index=['2 Players','3 Players','4 Players'],columns=['| 5%:','bAv','bMe','d','| 10%:','bAv','bMe','d','| 20%:','bAv','bMe','d','| all:','bAv','bMe','d']).round(0)"
   ]
  },
  {
   "cell_type": "markdown",
   "metadata": {},
   "source": [
    "Branching factor (b) and depth (d) stay fairly consistent even for different percentages of random moves.\n",
    "\n",
    "However, especially the depth differs depending on the number of players. This is not surprising, because the number of players must have an effect on the overall length of a game. The more players, the more moves are made. Double the number of players also doubles the game length, which seems plausible.\n",
    "\n",
    "Now, we can finally calculate the actual complexity. The calculation will be done for each player constellation separately."
   ]
  },
  {
   "cell_type": "markdown",
   "metadata": {},
   "source": [
    "## Final Result"
   ]
  },
  {
   "cell_type": "code",
   "execution_count": 18,
   "metadata": {},
   "outputs": [
    {
     "data": {
      "text/html": [
       "<div>\n",
       "<style scoped>\n",
       "    .dataframe tbody tr th:only-of-type {\n",
       "        vertical-align: middle;\n",
       "    }\n",
       "\n",
       "    .dataframe tbody tr th {\n",
       "        vertical-align: top;\n",
       "    }\n",
       "\n",
       "    .dataframe thead th {\n",
       "        text-align: right;\n",
       "    }\n",
       "</style>\n",
       "<table border=\"1\" class=\"dataframe\">\n",
       "  <thead>\n",
       "    <tr style=\"text-align: right;\">\n",
       "      <th></th>\n",
       "      <th>2 Players</th>\n",
       "      <th>3 Players</th>\n",
       "      <th>4 Players</th>\n",
       "      <th>total</th>\n",
       "    </tr>\n",
       "  </thead>\n",
       "  <tbody>\n",
       "    <tr>\n",
       "      <th>complexity</th>\n",
       "      <td>1.080551e+39</td>\n",
       "      <td>1.162976e+59</td>\n",
       "      <td>3.514075e+67</td>\n",
       "      <td>1.320642e+55</td>\n",
       "    </tr>\n",
       "  </tbody>\n",
       "</table>\n",
       "</div>"
      ],
      "text/plain": [
       "               2 Players     3 Players     4 Players         total\n",
       "complexity  1.080551e+39  1.162976e+59  3.514075e+67  1.320642e+55"
      ]
     },
     "execution_count": 18,
     "metadata": {},
     "output_type": "execute_result"
    }
   ],
   "source": [
    "def calcComplexity(b,d):\n",
    "    return b ** d\n",
    "\n",
    "table2 = [\n",
    "    [\n",
    "        calcComplexity(data_p2.branchingFactorAvg.mean(), data_p2.depth.mean()),\n",
    "        calcComplexity(data_p3.branchingFactorAvg.mean(), data_p3.depth.mean()),\n",
    "        calcComplexity(data_p4.branchingFactorAvg.mean(), data_p4.depth.mean()),\n",
    "        calcComplexity(data.branchingFactorAvg.mean(), data.depth.mean()),\n",
    "    ]\n",
    "]\n",
    "pd.DataFrame(table2, index=['complexity'], columns=['2 Players','3 Players','4 Players','total'])"
   ]
  },
  {
   "cell_type": "markdown",
   "metadata": {},
   "source": [
    "Chameleon Chess has a high complexity spanning from $10^{25}$ for a two player game, up to almost $10^{52}$ in a four player game."
   ]
  }
 ],
 "metadata": {
  "kernelspec": {
   "display_name": "Python 3",
   "language": "python",
   "name": "python3"
  },
  "language_info": {
   "codemirror_mode": {
    "name": "ipython",
    "version": 3
   },
   "file_extension": ".py",
   "mimetype": "text/x-python",
   "name": "python",
   "nbconvert_exporter": "python",
   "pygments_lexer": "ipython3",
   "version": "3.7.6"
  }
 },
 "nbformat": 4,
 "nbformat_minor": 4
}
