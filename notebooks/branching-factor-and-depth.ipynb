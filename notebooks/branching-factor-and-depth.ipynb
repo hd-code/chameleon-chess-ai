{
 "cells": [
  {
   "cell_type": "code",
   "execution_count": 1,
   "metadata": {},
   "outputs": [],
   "source": [
    "import pandas as pd"
   ]
  },
  {
   "cell_type": "markdown",
   "metadata": {},
   "source": [
    "# Calculating Complexity for Chameleon Chess\n",
    "\n",
    "This script will calculate the game tree complexity of the game chameleon chess.\n",
    "\n",
    "The complexity of a turn-based board game can be calculated with: $b^d$. $b$ is the branching factor, which is the usual number of moves a player could perform on a turn. $d$ is the depth, which is the usual length of a game (the total number of moves performed by all players).\n",
    "\n",
    "For that purpose, a series of games were played by the computer player (maxN). There were games played with two, three and four players. The script to play the games is `src/branching-factor-and-depth.ts`. The results were stored to `data/branching-factor-and-depth.csv`.\n",
    "\n",
    "In order to simulate different levels of experience in playing and to prevent all the games to be played in exactly then same manner, a random component was used. That means that there was a certain chance, that a random move was chosen, instead of one by the maxN algorithm. Some games were played with 1%, 10% and 20% chance for a random move.\n",
    "\n",
    "Let's load the results from the games and have look on the data."
   ]
  },
  {
   "cell_type": "code",
   "execution_count": 8,
   "metadata": {},
   "outputs": [
    {
     "data": {
      "text/html": [
       "<div>\n",
       "<style scoped>\n",
       "    .dataframe tbody tr th:only-of-type {\n",
       "        vertical-align: middle;\n",
       "    }\n",
       "\n",
       "    .dataframe tbody tr th {\n",
       "        vertical-align: top;\n",
       "    }\n",
       "\n",
       "    .dataframe thead th {\n",
       "        text-align: right;\n",
       "    }\n",
       "</style>\n",
       "<table border=\"1\" class=\"dataframe\">\n",
       "  <thead>\n",
       "    <tr style=\"text-align: right;\">\n",
       "      <th></th>\n",
       "      <th>algorithm</th>\n",
       "      <th>propForRandomMove</th>\n",
       "      <th>numOfPlayers</th>\n",
       "      <th>branchingFactor</th>\n",
       "      <th>depth</th>\n",
       "    </tr>\n",
       "  </thead>\n",
       "  <tbody>\n",
       "    <tr>\n",
       "      <th>0</th>\n",
       "      <td>maxN</td>\n",
       "      <td>0.01</td>\n",
       "      <td>2</td>\n",
       "      <td>11.833333</td>\n",
       "      <td>24</td>\n",
       "    </tr>\n",
       "    <tr>\n",
       "      <th>1</th>\n",
       "      <td>maxN</td>\n",
       "      <td>0.01</td>\n",
       "      <td>2</td>\n",
       "      <td>14.388889</td>\n",
       "      <td>18</td>\n",
       "    </tr>\n",
       "    <tr>\n",
       "      <th>2</th>\n",
       "      <td>maxN</td>\n",
       "      <td>0.01</td>\n",
       "      <td>2</td>\n",
       "      <td>14.388889</td>\n",
       "      <td>18</td>\n",
       "    </tr>\n",
       "    <tr>\n",
       "      <th>3</th>\n",
       "      <td>maxN</td>\n",
       "      <td>0.01</td>\n",
       "      <td>2</td>\n",
       "      <td>14.388889</td>\n",
       "      <td>18</td>\n",
       "    </tr>\n",
       "    <tr>\n",
       "      <th>4</th>\n",
       "      <td>maxN</td>\n",
       "      <td>0.01</td>\n",
       "      <td>2</td>\n",
       "      <td>14.388889</td>\n",
       "      <td>18</td>\n",
       "    </tr>\n",
       "    <tr>\n",
       "      <th>...</th>\n",
       "      <td>...</td>\n",
       "      <td>...</td>\n",
       "      <td>...</td>\n",
       "      <td>...</td>\n",
       "      <td>...</td>\n",
       "    </tr>\n",
       "    <tr>\n",
       "      <th>85</th>\n",
       "      <td>maxN</td>\n",
       "      <td>0.20</td>\n",
       "      <td>4</td>\n",
       "      <td>13.833333</td>\n",
       "      <td>54</td>\n",
       "    </tr>\n",
       "    <tr>\n",
       "      <th>86</th>\n",
       "      <td>maxN</td>\n",
       "      <td>0.20</td>\n",
       "      <td>4</td>\n",
       "      <td>15.238095</td>\n",
       "      <td>42</td>\n",
       "    </tr>\n",
       "    <tr>\n",
       "      <th>87</th>\n",
       "      <td>maxN</td>\n",
       "      <td>0.20</td>\n",
       "      <td>4</td>\n",
       "      <td>18.482143</td>\n",
       "      <td>56</td>\n",
       "    </tr>\n",
       "    <tr>\n",
       "      <th>88</th>\n",
       "      <td>maxN</td>\n",
       "      <td>0.20</td>\n",
       "      <td>4</td>\n",
       "      <td>17.428571</td>\n",
       "      <td>42</td>\n",
       "    </tr>\n",
       "    <tr>\n",
       "      <th>89</th>\n",
       "      <td>maxN</td>\n",
       "      <td>0.20</td>\n",
       "      <td>4</td>\n",
       "      <td>13.625000</td>\n",
       "      <td>32</td>\n",
       "    </tr>\n",
       "  </tbody>\n",
       "</table>\n",
       "<p>90 rows × 5 columns</p>\n",
       "</div>"
      ],
      "text/plain": [
       "   algorithm  propForRandomMove  numOfPlayers  branchingFactor  depth\n",
       "0       maxN               0.01             2        11.833333     24\n",
       "1       maxN               0.01             2        14.388889     18\n",
       "2       maxN               0.01             2        14.388889     18\n",
       "3       maxN               0.01             2        14.388889     18\n",
       "4       maxN               0.01             2        14.388889     18\n",
       "..       ...                ...           ...              ...    ...\n",
       "85      maxN               0.20             4        13.833333     54\n",
       "86      maxN               0.20             4        15.238095     42\n",
       "87      maxN               0.20             4        18.482143     56\n",
       "88      maxN               0.20             4        17.428571     42\n",
       "89      maxN               0.20             4        13.625000     32\n",
       "\n",
       "[90 rows x 5 columns]"
      ]
     },
     "execution_count": 8,
     "metadata": {},
     "output_type": "execute_result"
    }
   ],
   "source": [
    "raw_data = pd.read_csv('../data/branching-factor-and-depth.csv')\n",
    "raw_data"
   ]
  },
  {
   "cell_type": "markdown",
   "metadata": {},
   "source": [
    "The attributes 'algorithm', 'propForRandomMove' and 'numOfPlayers' encode the settings of the particular game.\n",
    "\n",
    "'branchingFactor' and 'depth' are our target attributes.\n",
    "\n",
    "Let's check, how our target values are distributed."
   ]
  },
  {
   "cell_type": "code",
   "execution_count": 3,
   "metadata": {},
   "outputs": [
    {
     "data": {
      "text/plain": [
       "<matplotlib.axes._subplots.AxesSubplot at 0x7f85b2515c90>"
      ]
     },
     "execution_count": 3,
     "metadata": {},
     "output_type": "execute_result"
    },
    {
     "data": {
      "image/png": "[encoded data removed]",
      "text/plain": [
       "<Figure size 432x288 with 1 Axes>"
      ]
     },
     "metadata": {
      "needs_background": "light"
     },
     "output_type": "display_data"
    }
   ],
   "source": [
    "raw_data.loc[:,['branchingFactor','depth']].plot.box(grid='True')"
   ]
  },
  {
   "cell_type": "markdown",
   "metadata": {},
   "source": [
    "There are some outliers in the 'depth' property. When the game is gettings near the end, circles may occur. That means that both remaining players are basically 'dancing around each other' and no one gets a chance to beat the other. In reality with human players this never occurs (personal experience). The random moves should also prevent these circles. But it seems there are some cases, where a circular game took place.\n",
    "\n",
    "Lets remove these ones from the data!"
   ]
  },
  {
   "cell_type": "code",
   "execution_count": 4,
   "metadata": {},
   "outputs": [
    {
     "data": {
      "text/plain": [
       "<matplotlib.axes._subplots.AxesSubplot at 0x7f85b005cb50>"
      ]
     },
     "execution_count": 4,
     "metadata": {},
     "output_type": "execute_result"
    },
    {
     "data": {
      "image/png": "[encoded data removed]",
      "text/plain": [
       "<Figure size 432x288 with 1 Axes>"
      ]
     },
     "metadata": {
      "needs_background": "light"
     },
     "output_type": "display_data"
    }
   ],
   "source": [
    "data = raw_data[raw_data.depth < 70]\n",
    "data.loc[:,['branchingFactor','depth']].plot.box()"
   ]
  },
  {
   "cell_type": "markdown",
   "metadata": {},
   "source": [
    "Now we have a more realistic data set.\n",
    "\n",
    "There seems to be another outlier in the branching factor, but this is not unusual. By playing skillfully a player might have several pawns in very good positions (e.g. all pawns have the role 'queen'), thus causing the branching factor to skyrocket for this turn.\n",
    "\n",
    "The data set is cleaned up. Let's get into the analysis."
   ]
  },
  {
   "cell_type": "code",
   "execution_count": 5,
   "metadata": {},
   "outputs": [],
   "source": [
    "data_p2 = data[data.numOfPlayers == 2]\n",
    "data_p3 = data[data.numOfPlayers == 3]\n",
    "data_p4 = data[data.numOfPlayers == 4]\n",
    "\n",
    "data_p2_1 = data[(data.numOfPlayers == 2) & (data.propForRandomMove == 0.01)]\n",
    "data_p3_1 = data[(data.numOfPlayers == 3) & (data.propForRandomMove == 0.01)]\n",
    "data_p4_1 = data[(data.numOfPlayers == 4) & (data.propForRandomMove == 0.01)]\n",
    "\n",
    "data_p2_10 = data[(data.numOfPlayers == 2) & (data.propForRandomMove == 0.1)]\n",
    "data_p3_10 = data[(data.numOfPlayers == 3) & (data.propForRandomMove == 0.1)]\n",
    "data_p4_10 = data[(data.numOfPlayers == 4) & (data.propForRandomMove == 0.1)]\n",
    "\n",
    "data_p2_20 = data[(data.numOfPlayers == 2) & (data.propForRandomMove == 0.2)]\n",
    "data_p3_20 = data[(data.numOfPlayers == 3) & (data.propForRandomMove == 0.2)]\n",
    "data_p4_20 = data[(data.numOfPlayers == 4) & (data.propForRandomMove == 0.2)]"
   ]
  },
  {
   "cell_type": "markdown",
   "metadata": {},
   "source": [
    "## Analysis of Branching Factor and Depth"
   ]
  },
  {
   "cell_type": "code",
   "execution_count": 6,
   "metadata": {},
   "outputs": [
    {
     "data": {
      "text/html": [
       "<div>\n",
       "<style scoped>\n",
       "    .dataframe tbody tr th:only-of-type {\n",
       "        vertical-align: middle;\n",
       "    }\n",
       "\n",
       "    .dataframe tbody tr th {\n",
       "        vertical-align: top;\n",
       "    }\n",
       "\n",
       "    .dataframe thead th {\n",
       "        text-align: right;\n",
       "    }\n",
       "</style>\n",
       "<table border=\"1\" class=\"dataframe\">\n",
       "  <thead>\n",
       "    <tr style=\"text-align: right;\">\n",
       "      <th></th>\n",
       "      <th>| 1%:</th>\n",
       "      <th>b</th>\n",
       "      <th>d</th>\n",
       "      <th>| 10%:</th>\n",
       "      <th>b</th>\n",
       "      <th>d</th>\n",
       "      <th>| 20%:</th>\n",
       "      <th>b</th>\n",
       "      <th>d</th>\n",
       "      <th>| all:</th>\n",
       "      <th>b</th>\n",
       "      <th>d</th>\n",
       "    </tr>\n",
       "  </thead>\n",
       "  <tbody>\n",
       "    <tr>\n",
       "      <th>2 Players</th>\n",
       "      <td></td>\n",
       "      <td>15.0</td>\n",
       "      <td>19.0</td>\n",
       "      <td></td>\n",
       "      <td>15.0</td>\n",
       "      <td>19.0</td>\n",
       "      <td></td>\n",
       "      <td>14.0</td>\n",
       "      <td>26.0</td>\n",
       "      <td></td>\n",
       "      <td>15.0</td>\n",
       "      <td>22.0</td>\n",
       "    </tr>\n",
       "    <tr>\n",
       "      <th>3 Players</th>\n",
       "      <td></td>\n",
       "      <td>19.0</td>\n",
       "      <td>40.0</td>\n",
       "      <td></td>\n",
       "      <td>17.0</td>\n",
       "      <td>41.0</td>\n",
       "      <td></td>\n",
       "      <td>17.0</td>\n",
       "      <td>40.0</td>\n",
       "      <td></td>\n",
       "      <td>18.0</td>\n",
       "      <td>40.0</td>\n",
       "    </tr>\n",
       "    <tr>\n",
       "      <th>4 Players</th>\n",
       "      <td></td>\n",
       "      <td>14.0</td>\n",
       "      <td>40.0</td>\n",
       "      <td></td>\n",
       "      <td>14.0</td>\n",
       "      <td>47.0</td>\n",
       "      <td></td>\n",
       "      <td>16.0</td>\n",
       "      <td>46.0</td>\n",
       "      <td></td>\n",
       "      <td>15.0</td>\n",
       "      <td>44.0</td>\n",
       "    </tr>\n",
       "  </tbody>\n",
       "</table>\n",
       "</div>"
      ],
      "text/plain": [
       "          | 1%:     b     d | 10%:     b     d | 20%:     b     d | all:  \\\n",
       "2 Players        15.0  19.0         15.0  19.0         14.0  26.0          \n",
       "3 Players        19.0  40.0         17.0  41.0         17.0  40.0          \n",
       "4 Players        14.0  40.0         14.0  47.0         16.0  46.0          \n",
       "\n",
       "              b     d  \n",
       "2 Players  15.0  22.0  \n",
       "3 Players  18.0  40.0  \n",
       "4 Players  15.0  44.0  "
      ]
     },
     "execution_count": 6,
     "metadata": {},
     "output_type": "execute_result"
    }
   ],
   "source": [
    "table = [\n",
    "    [\n",
    "        '', data_p2_1.branchingFactor.mean(),  data_p2_1.depth.mean(),\n",
    "        '', data_p2_10.branchingFactor.mean(), data_p2_10.depth.mean(),\n",
    "        '', data_p2_20.branchingFactor.mean(), data_p2_20.depth.mean(),\n",
    "        '', data_p2.branchingFactor.mean(),    data_p2.depth.mean(),\n",
    "    ],[\n",
    "        '', data_p3_1.branchingFactor.mean(),  data_p3_1.depth.mean(),\n",
    "        '', data_p3_10.branchingFactor.mean(), data_p3_10.depth.mean(),\n",
    "        '', data_p3_20.branchingFactor.mean(), data_p3_20.depth.mean(),\n",
    "        '', data_p3.branchingFactor.mean(),    data_p3.depth.mean(),\n",
    "    ],[\n",
    "        '', data_p4_1.branchingFactor.mean(),  data_p4_1.depth.mean(),\n",
    "        '', data_p4_10.branchingFactor.mean(), data_p4_10.depth.mean(),\n",
    "        '', data_p4_20.branchingFactor.mean(), data_p4_20.depth.mean(),\n",
    "        '', data_p4.branchingFactor.mean(),    data_p4.depth.mean(),\n",
    "    ]\n",
    "]\n",
    "pd.DataFrame(table, index=['2 Players','3 Players','4 Players'],columns=['| 1%:','b','d','| 10%:','b','d','| 20%:','b','d','| all:','b','d']).round(0)"
   ]
  },
  {
   "cell_type": "markdown",
   "metadata": {},
   "source": [
    "Branching factor (b) and depth (d) stay fairly consistent even for different percentages of random moves.\n",
    "\n",
    "However, especially the depth differs depending on the number of players. This is not surprising, because the number of players must have an effect on the overall length of a game. The more players, the more moves are made. Double the number of players also doubles the game length, which seems plausible.\n",
    "\n",
    "Now, we can finally calculate the actual complexity. The calculation will be done for each player constellation separately."
   ]
  },
  {
   "cell_type": "markdown",
   "metadata": {},
   "source": [
    "## Final Result"
   ]
  },
  {
   "cell_type": "code",
   "execution_count": 7,
   "metadata": {},
   "outputs": [
    {
     "data": {
      "text/html": [
       "<div>\n",
       "<style scoped>\n",
       "    .dataframe tbody tr th:only-of-type {\n",
       "        vertical-align: middle;\n",
       "    }\n",
       "\n",
       "    .dataframe tbody tr th {\n",
       "        vertical-align: top;\n",
       "    }\n",
       "\n",
       "    .dataframe thead th {\n",
       "        text-align: right;\n",
       "    }\n",
       "</style>\n",
       "<table border=\"1\" class=\"dataframe\">\n",
       "  <thead>\n",
       "    <tr style=\"text-align: right;\">\n",
       "      <th></th>\n",
       "      <th>2 Players</th>\n",
       "      <th>3 Players</th>\n",
       "      <th>4 Players</th>\n",
       "      <th>total</th>\n",
       "    </tr>\n",
       "  </thead>\n",
       "  <tbody>\n",
       "    <tr>\n",
       "      <th>complexity</th>\n",
       "      <td>1.404454e+25</td>\n",
       "      <td>9.725062e+49</td>\n",
       "      <td>8.057480e+51</td>\n",
       "      <td>1.129939e+42</td>\n",
       "    </tr>\n",
       "  </tbody>\n",
       "</table>\n",
       "</div>"
      ],
      "text/plain": [
       "               2 Players     3 Players     4 Players         total\n",
       "complexity  1.404454e+25  9.725062e+49  8.057480e+51  1.129939e+42"
      ]
     },
     "execution_count": 7,
     "metadata": {},
     "output_type": "execute_result"
    }
   ],
   "source": [
    "def calcComplexity(b,d):\n",
    "    return b ** d\n",
    "\n",
    "table2 = [\n",
    "    [\n",
    "        calcComplexity(data_p2.branchingFactor.mean(), data_p2.depth.mean()),\n",
    "        calcComplexity(data_p3.branchingFactor.mean(), data_p3.depth.mean()),\n",
    "        calcComplexity(data_p4.branchingFactor.mean(), data_p4.depth.mean()),\n",
    "        calcComplexity(data.branchingFactor.mean(), data.depth.mean()),\n",
    "    ]\n",
    "]\n",
    "pd.DataFrame(table2, index=['complexity'], columns=['2 Players','3 Players','4 Players','total'])"
   ]
  },
  {
   "cell_type": "markdown",
   "metadata": {},
   "source": [
    "Chameleon Chess has a high complexity spanning from $10^{25}$ for a two player game, up to almost $10^{52}$ in a four player game."
   ]
  }
 ],
 "metadata": {
  "kernelspec": {
   "display_name": "Python 3",
   "language": "python",
   "name": "python3"
  },
  "language_info": {
   "codemirror_mode": {
    "name": "ipython",
    "version": 3
   },
   "file_extension": ".py",
   "mimetype": "text/x-python",
   "name": "python",
   "nbconvert_exporter": "python",
   "pygments_lexer": "ipython3",
   "version": "3.7.6"
  }
 },
 "nbformat": 4,
 "nbformat_minor": 4
}
